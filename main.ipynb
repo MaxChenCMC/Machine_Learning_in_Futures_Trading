{
 "cells": [
  {
   "cell_type": "markdown",
   "source": [
    "# 1.1 隨機森林 \r\n",
    "\r\n",
    "資料集\r\n",
    "\r\n",
    "```python\r\n",
    "import numpy as np\r\n",
    "\r\n",
    "```"
   ],
   "metadata": {}
  },
  {
   "cell_type": "code",
   "execution_count": 2,
   "source": [
    "import pandas as pd\r\n",
    "import numpy as np\r\n",
    "import matplotlib.pyplot as plt\r\n",
    "plt.style.use('bmh')\r\n",
    "from tqdm import tqdm\r\n",
    "import requests, datetime\r\n",
    "from bs4 import BeautifulSoup\r\n"
   ],
   "outputs": [],
   "metadata": {}
  },
  {
   "cell_type": "code",
   "execution_count": null,
   "source": [],
   "outputs": [],
   "metadata": {}
  }
 ],
 "metadata": {
  "orig_nbformat": 4,
  "language_info": {
   "name": "python",
   "version": "3.7.6",
   "mimetype": "text/x-python",
   "codemirror_mode": {
    "name": "ipython",
    "version": 3
   },
   "pygments_lexer": "ipython3",
   "nbconvert_exporter": "python",
   "file_extension": ".py"
  },
  "kernelspec": {
   "name": "python3",
   "display_name": "Python 3.7.6 64-bit"
  },
  "interpreter": {
   "hash": "6d09c311d154ccac2c591b2a656db1a75fa050ca10b8aadd780a430b68a02a08"
  }
 },
 "nbformat": 4,
 "nbformat_minor": 2
}