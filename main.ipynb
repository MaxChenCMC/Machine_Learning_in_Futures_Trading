{
 "cells": [
  {
   "cell_type": "markdown",
   "source": [
    "# 用期現貨籌碼預測隔天漲跌\r\n",
    "\r\n",
    "### 摘要：\r\n",
    "用證交所盤後揭露的現貨買賣超 + 期交所的法人期貨部位  預測隔天台指期是紅K棒或黑K棒\r\n",
    "使用**隨機森林**的`樣本隨機`＆`特徵隨機`來預測\r\n",
    "\r\n",
    "![](demo.jpg)\r\n",
    "\r\n",
    "### 資料來源：[臺灣證券交易所](https://www.twse.com.tw/zh/page/trading/fund/BFI82U.html)／[臺灣期貨交易所](https://www.taifex.com.tw/cht/3/futContractsDate)\r\n",
    "\r\n",
    "<hr>\r\n",
    "\r\n",
    "# 目錄\r\n",
    "* 資料預覽\r\n",
    "* 樣態\r\n",
    "* 預處理\r\n",
    "* Z\r\n",
    "* A\r\n",
    "\r\n",
    "<hr>\r\n",
    "\r\n",
    "# 1.1 隨機森林 \r\n",
    "使用套件"
   ],
   "metadata": {}
  },
  {
   "cell_type": "code",
   "execution_count": 1,
   "source": [
    "import pandas as pd\r\n",
    "import numpy as np\r\n",
    "import matplotlib.pyplot as plt\r\n",
    "\r\n",
    "# import matplotlib as matplot\r\n",
    "plt.style.use(\"bmh\")\r\n",
    "import seaborn as sns\r\n",
    "# from tqdm import tqdm\r\n",
    "# import requests, datetime\r\n",
    "# from bs4 import BeautifulSoup\r\n"
   ],
   "outputs": [],
   "metadata": {}
  },
  {
   "cell_type": "markdown",
   "source": [
    "# 檢查資料是否有異常值"
   ],
   "metadata": {}
  },
  {
   "cell_type": "code",
   "execution_count": 2,
   "source": [
    "df = pd.read_csv(\r\n",
    "    \"https://raw.githubusercontent.com/MaxChenCMC/csv_files_for_colab/master/txf_ohlc_backtest.csv\",\r\n",
    "    index_col=\"date\",\r\n",
    "    parse_dates=True,\r\n",
    ")[[\"inst_f buy\", \"inst_t buy\", \"inst_txf_net\", \"inst_txf_oi\", \"inst_mtx_net\", \"inst_mtx_oi\", \"txf_open\", \"txf_high\", \"txf_low\", \"txf_close\", \"txf_volume\"]]\r\n",
    "print(f'資料有{df.shape[0]}個rows、{df.shape[1]}個columns')\r\n",
    "display(df.info())  # df.isnull().any()\r\n",
    "df.tail()\r\n"
   ],
   "outputs": [
    {
     "output_type": "stream",
     "name": "stdout",
     "text": [
      "資料有655個rows、11個columns\n",
      "<class 'pandas.core.frame.DataFrame'>\n",
      "DatetimeIndex: 655 entries, 2019-01-02 to 2021-09-10\n",
      "Data columns (total 11 columns):\n",
      " #   Column        Non-Null Count  Dtype\n",
      "---  ------        --------------  -----\n",
      " 0   inst_f buy    655 non-null    int64\n",
      " 1   inst_t buy    655 non-null    int64\n",
      " 2   inst_txf_net  655 non-null    int64\n",
      " 3   inst_txf_oi   655 non-null    int64\n",
      " 4   inst_mtx_net  655 non-null    int64\n",
      " 5   inst_mtx_oi   655 non-null    int64\n",
      " 6   txf_open      655 non-null    int64\n",
      " 7   txf_high      655 non-null    int64\n",
      " 8   txf_low       655 non-null    int64\n",
      " 9   txf_close     655 non-null    int64\n",
      " 10  txf_volume    655 non-null    int64\n",
      "dtypes: int64(11)\n",
      "memory usage: 61.4 KB\n"
     ]
    },
    {
     "output_type": "display_data",
     "data": {
      "text/plain": [
       "None"
      ]
     },
     "metadata": {}
    },
    {
     "output_type": "execute_result",
     "data": {
      "text/html": [
       "<div>\n",
       "<style scoped>\n",
       "    .dataframe tbody tr th:only-of-type {\n",
       "        vertical-align: middle;\n",
       "    }\n",
       "\n",
       "    .dataframe tbody tr th {\n",
       "        vertical-align: top;\n",
       "    }\n",
       "\n",
       "    .dataframe thead th {\n",
       "        text-align: right;\n",
       "    }\n",
       "</style>\n",
       "<table border=\"1\" class=\"dataframe\">\n",
       "  <thead>\n",
       "    <tr style=\"text-align: right;\">\n",
       "      <th></th>\n",
       "      <th>inst_f buy</th>\n",
       "      <th>inst_t buy</th>\n",
       "      <th>inst_txf_net</th>\n",
       "      <th>inst_txf_oi</th>\n",
       "      <th>inst_mtx_net</th>\n",
       "      <th>inst_mtx_oi</th>\n",
       "      <th>txf_open</th>\n",
       "      <th>txf_high</th>\n",
       "      <th>txf_low</th>\n",
       "      <th>txf_close</th>\n",
       "      <th>txf_volume</th>\n",
       "    </tr>\n",
       "    <tr>\n",
       "      <th>date</th>\n",
       "      <th></th>\n",
       "      <th></th>\n",
       "      <th></th>\n",
       "      <th></th>\n",
       "      <th></th>\n",
       "      <th></th>\n",
       "      <th></th>\n",
       "      <th></th>\n",
       "      <th></th>\n",
       "      <th></th>\n",
       "      <th></th>\n",
       "    </tr>\n",
       "  </thead>\n",
       "  <tbody>\n",
       "    <tr>\n",
       "      <th>2021-09-06</th>\n",
       "      <td>7666042064</td>\n",
       "      <td>-1252559575</td>\n",
       "      <td>3523</td>\n",
       "      <td>-16296</td>\n",
       "      <td>734</td>\n",
       "      <td>4144</td>\n",
       "      <td>17440</td>\n",
       "      <td>17596</td>\n",
       "      <td>17425</td>\n",
       "      <td>17493</td>\n",
       "      <td>118794</td>\n",
       "    </tr>\n",
       "    <tr>\n",
       "      <th>2021-09-07</th>\n",
       "      <td>6690800894</td>\n",
       "      <td>-1488392384</td>\n",
       "      <td>715</td>\n",
       "      <td>-15580</td>\n",
       "      <td>-318</td>\n",
       "      <td>3822</td>\n",
       "      <td>17522</td>\n",
       "      <td>17529</td>\n",
       "      <td>17337</td>\n",
       "      <td>17424</td>\n",
       "      <td>125058</td>\n",
       "    </tr>\n",
       "    <tr>\n",
       "      <th>2021-09-08</th>\n",
       "      <td>-1072311064</td>\n",
       "      <td>-434523230</td>\n",
       "      <td>1383</td>\n",
       "      <td>-14197</td>\n",
       "      <td>-447</td>\n",
       "      <td>3366</td>\n",
       "      <td>17395</td>\n",
       "      <td>17426</td>\n",
       "      <td>17163</td>\n",
       "      <td>17260</td>\n",
       "      <td>151432</td>\n",
       "    </tr>\n",
       "    <tr>\n",
       "      <th>2021-09-09</th>\n",
       "      <td>-637610085</td>\n",
       "      <td>337589613</td>\n",
       "      <td>1043</td>\n",
       "      <td>-11655</td>\n",
       "      <td>-1457</td>\n",
       "      <td>-4087</td>\n",
       "      <td>17142</td>\n",
       "      <td>17291</td>\n",
       "      <td>17084</td>\n",
       "      <td>17238</td>\n",
       "      <td>124510</td>\n",
       "    </tr>\n",
       "    <tr>\n",
       "      <th>2021-09-10</th>\n",
       "      <td>14973318520</td>\n",
       "      <td>457382200</td>\n",
       "      <td>-2651</td>\n",
       "      <td>-14302</td>\n",
       "      <td>2767</td>\n",
       "      <td>-1336</td>\n",
       "      <td>17300</td>\n",
       "      <td>17479</td>\n",
       "      <td>17284</td>\n",
       "      <td>17473</td>\n",
       "      <td>108107</td>\n",
       "    </tr>\n",
       "  </tbody>\n",
       "</table>\n",
       "</div>"
      ],
      "text/plain": [
       "             inst_f buy  inst_t buy  inst_txf_net  inst_txf_oi  inst_mtx_net  \\\n",
       "date                                                                           \n",
       "2021-09-06   7666042064 -1252559575          3523       -16296           734   \n",
       "2021-09-07   6690800894 -1488392384           715       -15580          -318   \n",
       "2021-09-08  -1072311064  -434523230          1383       -14197          -447   \n",
       "2021-09-09   -637610085   337589613          1043       -11655         -1457   \n",
       "2021-09-10  14973318520   457382200         -2651       -14302          2767   \n",
       "\n",
       "            inst_mtx_oi  txf_open  txf_high  txf_low  txf_close  txf_volume  \n",
       "date                                                                         \n",
       "2021-09-06         4144     17440     17596    17425      17493      118794  \n",
       "2021-09-07         3822     17522     17529    17337      17424      125058  \n",
       "2021-09-08         3366     17395     17426    17163      17260      151432  \n",
       "2021-09-09        -4087     17142     17291    17084      17238      124510  \n",
       "2021-09-10        -1336     17300     17479    17284      17473      108107  "
      ]
     },
     "metadata": {},
     "execution_count": 2
    }
   ],
   "metadata": {}
  },
  {
   "cell_type": "code",
   "execution_count": 3,
   "source": [
    "df = df.rename(\r\n",
    "    columns={\r\n",
    "        \"inst_f buy\": \"外資現股買賣超\",\r\n",
    "        \"inst_t buy\": \"投信現股買賣超\",\r\n",
    "        \"inst_txf_net\": \"外資大台多空淨額\",\r\n",
    "        \"inst_txf_oi\": \"外資大台未平倉\",\r\n",
    "        \"inst_mtx_net\": \"外資小台多空淨額\",\r\n",
    "        \"inst_mtx_oi\": \"外資小台未平倉\",\r\n",
    "        \"txf_open\": \"台指期_開盤價\",\r\n",
    "        \"txf_high\": \"台指期_最高價\",\r\n",
    "        \"txf_low\": \"台指期_最低價\",\r\n",
    "        \"txf_close\": \"台指期_收盤價\",\r\n",
    "        \"txf_volume\": \"台指期_成交量\",\r\n",
    "    }\r\n",
    ")\r\n",
    "df.tail()\r\n"
   ],
   "outputs": [
    {
     "output_type": "execute_result",
     "data": {
      "text/html": [
       "<div>\n",
       "<style scoped>\n",
       "    .dataframe tbody tr th:only-of-type {\n",
       "        vertical-align: middle;\n",
       "    }\n",
       "\n",
       "    .dataframe tbody tr th {\n",
       "        vertical-align: top;\n",
       "    }\n",
       "\n",
       "    .dataframe thead th {\n",
       "        text-align: right;\n",
       "    }\n",
       "</style>\n",
       "<table border=\"1\" class=\"dataframe\">\n",
       "  <thead>\n",
       "    <tr style=\"text-align: right;\">\n",
       "      <th></th>\n",
       "      <th>外資現股買賣超</th>\n",
       "      <th>投信現股買賣超</th>\n",
       "      <th>外資大台多空淨額</th>\n",
       "      <th>外資大台未平倉</th>\n",
       "      <th>外資小台多空淨額</th>\n",
       "      <th>外資小台未平倉</th>\n",
       "      <th>台指期_開盤價</th>\n",
       "      <th>台指期_最高價</th>\n",
       "      <th>台指期_最低價</th>\n",
       "      <th>台指期_收盤價</th>\n",
       "      <th>台指期_成交量</th>\n",
       "    </tr>\n",
       "    <tr>\n",
       "      <th>date</th>\n",
       "      <th></th>\n",
       "      <th></th>\n",
       "      <th></th>\n",
       "      <th></th>\n",
       "      <th></th>\n",
       "      <th></th>\n",
       "      <th></th>\n",
       "      <th></th>\n",
       "      <th></th>\n",
       "      <th></th>\n",
       "      <th></th>\n",
       "    </tr>\n",
       "  </thead>\n",
       "  <tbody>\n",
       "    <tr>\n",
       "      <th>2021-09-06</th>\n",
       "      <td>7666042064</td>\n",
       "      <td>-1252559575</td>\n",
       "      <td>3523</td>\n",
       "      <td>-16296</td>\n",
       "      <td>734</td>\n",
       "      <td>4144</td>\n",
       "      <td>17440</td>\n",
       "      <td>17596</td>\n",
       "      <td>17425</td>\n",
       "      <td>17493</td>\n",
       "      <td>118794</td>\n",
       "    </tr>\n",
       "    <tr>\n",
       "      <th>2021-09-07</th>\n",
       "      <td>6690800894</td>\n",
       "      <td>-1488392384</td>\n",
       "      <td>715</td>\n",
       "      <td>-15580</td>\n",
       "      <td>-318</td>\n",
       "      <td>3822</td>\n",
       "      <td>17522</td>\n",
       "      <td>17529</td>\n",
       "      <td>17337</td>\n",
       "      <td>17424</td>\n",
       "      <td>125058</td>\n",
       "    </tr>\n",
       "    <tr>\n",
       "      <th>2021-09-08</th>\n",
       "      <td>-1072311064</td>\n",
       "      <td>-434523230</td>\n",
       "      <td>1383</td>\n",
       "      <td>-14197</td>\n",
       "      <td>-447</td>\n",
       "      <td>3366</td>\n",
       "      <td>17395</td>\n",
       "      <td>17426</td>\n",
       "      <td>17163</td>\n",
       "      <td>17260</td>\n",
       "      <td>151432</td>\n",
       "    </tr>\n",
       "    <tr>\n",
       "      <th>2021-09-09</th>\n",
       "      <td>-637610085</td>\n",
       "      <td>337589613</td>\n",
       "      <td>1043</td>\n",
       "      <td>-11655</td>\n",
       "      <td>-1457</td>\n",
       "      <td>-4087</td>\n",
       "      <td>17142</td>\n",
       "      <td>17291</td>\n",
       "      <td>17084</td>\n",
       "      <td>17238</td>\n",
       "      <td>124510</td>\n",
       "    </tr>\n",
       "    <tr>\n",
       "      <th>2021-09-10</th>\n",
       "      <td>14973318520</td>\n",
       "      <td>457382200</td>\n",
       "      <td>-2651</td>\n",
       "      <td>-14302</td>\n",
       "      <td>2767</td>\n",
       "      <td>-1336</td>\n",
       "      <td>17300</td>\n",
       "      <td>17479</td>\n",
       "      <td>17284</td>\n",
       "      <td>17473</td>\n",
       "      <td>108107</td>\n",
       "    </tr>\n",
       "  </tbody>\n",
       "</table>\n",
       "</div>"
      ],
      "text/plain": [
       "                外資現股買賣超     投信現股買賣超  外資大台多空淨額  外資大台未平倉  外資小台多空淨額  外資小台未平倉  \\\n",
       "date                                                                        \n",
       "2021-09-06   7666042064 -1252559575      3523   -16296       734     4144   \n",
       "2021-09-07   6690800894 -1488392384       715   -15580      -318     3822   \n",
       "2021-09-08  -1072311064  -434523230      1383   -14197      -447     3366   \n",
       "2021-09-09   -637610085   337589613      1043   -11655     -1457    -4087   \n",
       "2021-09-10  14973318520   457382200     -2651   -14302      2767    -1336   \n",
       "\n",
       "            台指期_開盤價  台指期_最高價  台指期_最低價  台指期_收盤價  台指期_成交量  \n",
       "date                                                     \n",
       "2021-09-06    17440    17596    17425    17493   118794  \n",
       "2021-09-07    17522    17529    17337    17424   125058  \n",
       "2021-09-08    17395    17426    17163    17260   151432  \n",
       "2021-09-09    17142    17291    17084    17238   124510  \n",
       "2021-09-10    17300    17479    17284    17473   108107  "
      ]
     },
     "metadata": {},
     "execution_count": 3
    }
   ],
   "metadata": {}
  },
  {
   "cell_type": "markdown",
   "source": [
    "# 定義特徵值為隔天是收紅K或黑K"
   ],
   "metadata": {}
  },
  {
   "cell_type": "code",
   "execution_count": 4,
   "source": [
    "df = df.assign(標籤=df[\"台指期_收盤價\"].shift(-1) - df[\"台指期_開盤價\"].shift(-1))\r\n",
    "df = df[:-1]\r\n",
    "# df.insert(0, \"搬到首欄\", df[\"標籤\"])\r\n",
    "# df.drop(\"標籤\", axis=1, inplace=True)\r\n",
    "df.tail()\r\n"
   ],
   "outputs": [
    {
     "output_type": "execute_result",
     "data": {
      "text/html": [
       "<div>\n",
       "<style scoped>\n",
       "    .dataframe tbody tr th:only-of-type {\n",
       "        vertical-align: middle;\n",
       "    }\n",
       "\n",
       "    .dataframe tbody tr th {\n",
       "        vertical-align: top;\n",
       "    }\n",
       "\n",
       "    .dataframe thead th {\n",
       "        text-align: right;\n",
       "    }\n",
       "</style>\n",
       "<table border=\"1\" class=\"dataframe\">\n",
       "  <thead>\n",
       "    <tr style=\"text-align: right;\">\n",
       "      <th></th>\n",
       "      <th>外資現股買賣超</th>\n",
       "      <th>投信現股買賣超</th>\n",
       "      <th>外資大台多空淨額</th>\n",
       "      <th>外資大台未平倉</th>\n",
       "      <th>外資小台多空淨額</th>\n",
       "      <th>外資小台未平倉</th>\n",
       "      <th>台指期_開盤價</th>\n",
       "      <th>台指期_最高價</th>\n",
       "      <th>台指期_最低價</th>\n",
       "      <th>台指期_收盤價</th>\n",
       "      <th>台指期_成交量</th>\n",
       "      <th>標籤</th>\n",
       "    </tr>\n",
       "    <tr>\n",
       "      <th>date</th>\n",
       "      <th></th>\n",
       "      <th></th>\n",
       "      <th></th>\n",
       "      <th></th>\n",
       "      <th></th>\n",
       "      <th></th>\n",
       "      <th></th>\n",
       "      <th></th>\n",
       "      <th></th>\n",
       "      <th></th>\n",
       "      <th></th>\n",
       "      <th></th>\n",
       "    </tr>\n",
       "  </thead>\n",
       "  <tbody>\n",
       "    <tr>\n",
       "      <th>2021-09-03</th>\n",
       "      <td>32088019893</td>\n",
       "      <td>864496798</td>\n",
       "      <td>-4014</td>\n",
       "      <td>-19816</td>\n",
       "      <td>2006</td>\n",
       "      <td>3398</td>\n",
       "      <td>17442</td>\n",
       "      <td>17553</td>\n",
       "      <td>17370</td>\n",
       "      <td>17508</td>\n",
       "      <td>114052</td>\n",
       "      <td>53.0</td>\n",
       "    </tr>\n",
       "    <tr>\n",
       "      <th>2021-09-06</th>\n",
       "      <td>7666042064</td>\n",
       "      <td>-1252559575</td>\n",
       "      <td>3523</td>\n",
       "      <td>-16296</td>\n",
       "      <td>734</td>\n",
       "      <td>4144</td>\n",
       "      <td>17440</td>\n",
       "      <td>17596</td>\n",
       "      <td>17425</td>\n",
       "      <td>17493</td>\n",
       "      <td>118794</td>\n",
       "      <td>-98.0</td>\n",
       "    </tr>\n",
       "    <tr>\n",
       "      <th>2021-09-07</th>\n",
       "      <td>6690800894</td>\n",
       "      <td>-1488392384</td>\n",
       "      <td>715</td>\n",
       "      <td>-15580</td>\n",
       "      <td>-318</td>\n",
       "      <td>3822</td>\n",
       "      <td>17522</td>\n",
       "      <td>17529</td>\n",
       "      <td>17337</td>\n",
       "      <td>17424</td>\n",
       "      <td>125058</td>\n",
       "      <td>-135.0</td>\n",
       "    </tr>\n",
       "    <tr>\n",
       "      <th>2021-09-08</th>\n",
       "      <td>-1072311064</td>\n",
       "      <td>-434523230</td>\n",
       "      <td>1383</td>\n",
       "      <td>-14197</td>\n",
       "      <td>-447</td>\n",
       "      <td>3366</td>\n",
       "      <td>17395</td>\n",
       "      <td>17426</td>\n",
       "      <td>17163</td>\n",
       "      <td>17260</td>\n",
       "      <td>151432</td>\n",
       "      <td>96.0</td>\n",
       "    </tr>\n",
       "    <tr>\n",
       "      <th>2021-09-09</th>\n",
       "      <td>-637610085</td>\n",
       "      <td>337589613</td>\n",
       "      <td>1043</td>\n",
       "      <td>-11655</td>\n",
       "      <td>-1457</td>\n",
       "      <td>-4087</td>\n",
       "      <td>17142</td>\n",
       "      <td>17291</td>\n",
       "      <td>17084</td>\n",
       "      <td>17238</td>\n",
       "      <td>124510</td>\n",
       "      <td>173.0</td>\n",
       "    </tr>\n",
       "  </tbody>\n",
       "</table>\n",
       "</div>"
      ],
      "text/plain": [
       "                外資現股買賣超     投信現股買賣超  外資大台多空淨額  外資大台未平倉  外資小台多空淨額  外資小台未平倉  \\\n",
       "date                                                                        \n",
       "2021-09-03  32088019893   864496798     -4014   -19816      2006     3398   \n",
       "2021-09-06   7666042064 -1252559575      3523   -16296       734     4144   \n",
       "2021-09-07   6690800894 -1488392384       715   -15580      -318     3822   \n",
       "2021-09-08  -1072311064  -434523230      1383   -14197      -447     3366   \n",
       "2021-09-09   -637610085   337589613      1043   -11655     -1457    -4087   \n",
       "\n",
       "            台指期_開盤價  台指期_最高價  台指期_最低價  台指期_收盤價  台指期_成交量     標籤  \n",
       "date                                                            \n",
       "2021-09-03    17442    17553    17370    17508   114052   53.0  \n",
       "2021-09-06    17440    17596    17425    17493   118794  -98.0  \n",
       "2021-09-07    17522    17529    17337    17424   125058 -135.0  \n",
       "2021-09-08    17395    17426    17163    17260   151432   96.0  \n",
       "2021-09-09    17142    17291    17084    17238   124510  173.0  "
      ]
     },
     "metadata": {},
     "execution_count": 4
    }
   ],
   "metadata": {}
  },
  {
   "cell_type": "markdown",
   "source": [
    "# 檢查K棒份佈，最慘曾大跌806，最好曾大漲584"
   ],
   "metadata": {}
  },
  {
   "cell_type": "code",
   "execution_count": 5,
   "source": [
    "df['標籤'].plot.hist(bins= 50)\r\n",
    "df['標籤'].describe()"
   ],
   "outputs": [
    {
     "output_type": "execute_result",
     "data": {
      "text/plain": [
       "count    654.000000\n",
       "mean       2.178899\n",
       "std      110.674156\n",
       "min     -806.000000\n",
       "25%      -45.000000\n",
       "50%        4.000000\n",
       "75%       56.000000\n",
       "max      584.000000\n",
       "Name: 標籤, dtype: float64"
      ]
     },
     "metadata": {},
     "execution_count": 5
    },
    {
     "output_type": "display_data",
     "data": {
      "image/png": "[encoded data removed]",
      "text/plain": [
       "<Figure size 432x288 with 1 Axes>"
      ]
     },
     "metadata": {
      "needs_background": "light"
     }
    }
   ],
   "metadata": {}
  },
  {
   "cell_type": "markdown",
   "source": [
    "# 新增一欄為紅Kv黑K，分群看兩種K棒對應的籌碼長怎樣"
   ],
   "metadata": {}
  },
  {
   "cell_type": "code",
   "execution_count": 6,
   "source": [
    "df[\"rise_decline\"] = np.where(df[\"標籤\"] >= 0, 1, 0)\r\n",
    "raise_decline = df.groupby('rise_decline')\r\n",
    "display(raise_decline.mean())\r\n",
    "len(df[df['rise_decline'] == 0]),len(df[df['rise_decline'] == 1]) "
   ],
   "outputs": [
    {
     "output_type": "display_data",
     "data": {
      "text/html": [
       "<div>\n",
       "<style scoped>\n",
       "    .dataframe tbody tr th:only-of-type {\n",
       "        vertical-align: middle;\n",
       "    }\n",
       "\n",
       "    .dataframe tbody tr th {\n",
       "        vertical-align: top;\n",
       "    }\n",
       "\n",
       "    .dataframe thead th {\n",
       "        text-align: right;\n",
       "    }\n",
       "</style>\n",
       "<table border=\"1\" class=\"dataframe\">\n",
       "  <thead>\n",
       "    <tr style=\"text-align: right;\">\n",
       "      <th></th>\n",
       "      <th>外資現股買賣超</th>\n",
       "      <th>投信現股買賣超</th>\n",
       "      <th>外資大台多空淨額</th>\n",
       "      <th>外資大台未平倉</th>\n",
       "      <th>外資小台多空淨額</th>\n",
       "      <th>外資小台未平倉</th>\n",
       "      <th>台指期_開盤價</th>\n",
       "      <th>台指期_最高價</th>\n",
       "      <th>台指期_最低價</th>\n",
       "      <th>台指期_收盤價</th>\n",
       "      <th>台指期_成交量</th>\n",
       "      <th>標籤</th>\n",
       "    </tr>\n",
       "    <tr>\n",
       "      <th>rise_decline</th>\n",
       "      <th></th>\n",
       "      <th></th>\n",
       "      <th></th>\n",
       "      <th></th>\n",
       "      <th></th>\n",
       "      <th></th>\n",
       "      <th></th>\n",
       "      <th></th>\n",
       "      <th></th>\n",
       "      <th></th>\n",
       "      <th></th>\n",
       "      <th></th>\n",
       "    </tr>\n",
       "  </thead>\n",
       "  <tbody>\n",
       "    <tr>\n",
       "      <th>0</th>\n",
       "      <td>-1.640366e+09</td>\n",
       "      <td>7.951907e+07</td>\n",
       "      <td>-174.154839</td>\n",
       "      <td>19806.751613</td>\n",
       "      <td>-620.806452</td>\n",
       "      <td>-671.796774</td>\n",
       "      <td>13005.241935</td>\n",
       "      <td>13075.725806</td>\n",
       "      <td>12924.470968</td>\n",
       "      <td>13006.483871</td>\n",
       "      <td>115840.635484</td>\n",
       "      <td>-76.654839</td>\n",
       "    </tr>\n",
       "    <tr>\n",
       "      <th>1</th>\n",
       "      <td>-7.011505e+08</td>\n",
       "      <td>1.403255e+08</td>\n",
       "      <td>227.308140</td>\n",
       "      <td>25177.968023</td>\n",
       "      <td>2.613372</td>\n",
       "      <td>-627.936047</td>\n",
       "      <td>12533.281977</td>\n",
       "      <td>12608.188953</td>\n",
       "      <td>12451.639535</td>\n",
       "      <td>12535.130814</td>\n",
       "      <td>116392.979651</td>\n",
       "      <td>73.220930</td>\n",
       "    </tr>\n",
       "  </tbody>\n",
       "</table>\n",
       "</div>"
      ],
      "text/plain": [
       "                   外資現股買賣超       投信現股買賣超    外資大台多空淨額       外資大台未平倉  \\\n",
       "rise_decline                                                         \n",
       "0            -1.640366e+09  7.951907e+07 -174.154839  19806.751613   \n",
       "1            -7.011505e+08  1.403255e+08  227.308140  25177.968023   \n",
       "\n",
       "                外資小台多空淨額     外資小台未平倉       台指期_開盤價       台指期_最高價  \\\n",
       "rise_decline                                                       \n",
       "0            -620.806452 -671.796774  13005.241935  13075.725806   \n",
       "1               2.613372 -627.936047  12533.281977  12608.188953   \n",
       "\n",
       "                   台指期_最低價       台指期_收盤價        台指期_成交量         標籤  \n",
       "rise_decline                                                        \n",
       "0             12924.470968  13006.483871  115840.635484 -76.654839  \n",
       "1             12451.639535  12535.130814  116392.979651  73.220930  "
      ]
     },
     "metadata": {}
    },
    {
     "output_type": "execute_result",
     "data": {
      "text/plain": [
       "(310, 344)"
      ]
     },
     "metadata": {},
     "execution_count": 6
    }
   ],
   "metadata": {}
  },
  {
   "cell_type": "code",
   "execution_count": 7,
   "source": [
    "plt.rcParams[\"font.sans-serif\"] = [\"Noto Sans CJK TC\"]\r\n",
    "heatmap = df.iloc[:, :6].corr()\r\n",
    "sns.heatmap(heatmap, xticklabels=heatmap.columns[:6], yticklabels=heatmap.columns[:6])\r\n",
    "heatmap\r\n",
    "# 外資小台多空淨額 vs 外資大台多空淨額   0.591689\r\n",
    "# 外資小台多空淨額 vs 外資小台未平倉 0.521047"
   ],
   "outputs": [
    {
     "output_type": "execute_result",
     "data": {
      "text/html": [
       "<div>\n",
       "<style scoped>\n",
       "    .dataframe tbody tr th:only-of-type {\n",
       "        vertical-align: middle;\n",
       "    }\n",
       "\n",
       "    .dataframe tbody tr th {\n",
       "        vertical-align: top;\n",
       "    }\n",
       "\n",
       "    .dataframe thead th {\n",
       "        text-align: right;\n",
       "    }\n",
       "</style>\n",
       "<table border=\"1\" class=\"dataframe\">\n",
       "  <thead>\n",
       "    <tr style=\"text-align: right;\">\n",
       "      <th></th>\n",
       "      <th>外資現股買賣超</th>\n",
       "      <th>投信現股買賣超</th>\n",
       "      <th>外資大台多空淨額</th>\n",
       "      <th>外資大台未平倉</th>\n",
       "      <th>外資小台多空淨額</th>\n",
       "      <th>外資小台未平倉</th>\n",
       "    </tr>\n",
       "  </thead>\n",
       "  <tbody>\n",
       "    <tr>\n",
       "      <th>外資現股買賣超</th>\n",
       "      <td>1.000000</td>\n",
       "      <td>0.040443</td>\n",
       "      <td>-0.000788</td>\n",
       "      <td>0.130222</td>\n",
       "      <td>0.439982</td>\n",
       "      <td>0.469436</td>\n",
       "    </tr>\n",
       "    <tr>\n",
       "      <th>投信現股買賣超</th>\n",
       "      <td>0.040443</td>\n",
       "      <td>1.000000</td>\n",
       "      <td>0.074203</td>\n",
       "      <td>0.019976</td>\n",
       "      <td>0.138984</td>\n",
       "      <td>0.159342</td>\n",
       "    </tr>\n",
       "    <tr>\n",
       "      <th>外資大台多空淨額</th>\n",
       "      <td>-0.000788</td>\n",
       "      <td>0.074203</td>\n",
       "      <td>1.000000</td>\n",
       "      <td>0.076473</td>\n",
       "      <td>0.591689</td>\n",
       "      <td>0.253232</td>\n",
       "    </tr>\n",
       "    <tr>\n",
       "      <th>外資大台未平倉</th>\n",
       "      <td>0.130222</td>\n",
       "      <td>0.019976</td>\n",
       "      <td>0.076473</td>\n",
       "      <td>1.000000</td>\n",
       "      <td>0.057333</td>\n",
       "      <td>0.174872</td>\n",
       "    </tr>\n",
       "    <tr>\n",
       "      <th>外資小台多空淨額</th>\n",
       "      <td>0.439982</td>\n",
       "      <td>0.138984</td>\n",
       "      <td>0.591689</td>\n",
       "      <td>0.057333</td>\n",
       "      <td>1.000000</td>\n",
       "      <td>0.521047</td>\n",
       "    </tr>\n",
       "    <tr>\n",
       "      <th>外資小台未平倉</th>\n",
       "      <td>0.469436</td>\n",
       "      <td>0.159342</td>\n",
       "      <td>0.253232</td>\n",
       "      <td>0.174872</td>\n",
       "      <td>0.521047</td>\n",
       "      <td>1.000000</td>\n",
       "    </tr>\n",
       "  </tbody>\n",
       "</table>\n",
       "</div>"
      ],
      "text/plain": [
       "           外資現股買賣超   投信現股買賣超  外資大台多空淨額   外資大台未平倉  外資小台多空淨額   外資小台未平倉\n",
       "外資現股買賣超   1.000000  0.040443 -0.000788  0.130222  0.439982  0.469436\n",
       "投信現股買賣超   0.040443  1.000000  0.074203  0.019976  0.138984  0.159342\n",
       "外資大台多空淨額 -0.000788  0.074203  1.000000  0.076473  0.591689  0.253232\n",
       "外資大台未平倉   0.130222  0.019976  0.076473  1.000000  0.057333  0.174872\n",
       "外資小台多空淨額  0.439982  0.138984  0.591689  0.057333  1.000000  0.521047\n",
       "外資小台未平倉   0.469436  0.159342  0.253232  0.174872  0.521047  1.000000"
      ]
     },
     "metadata": {},
     "execution_count": 7
    },
    {
     "output_type": "display_data",
     "data": {
      "image/png": "[encoded data removed]",
      "text/plain": [
       "<Figure size 432x288 with 2 Axes>"
      ]
     },
     "metadata": {
      "needs_background": "light"
     }
    }
   ],
   "metadata": {}
  },
  {
   "cell_type": "code",
   "execution_count": 8,
   "source": [
    "import scipy.stats as stats\r\n",
    "# stats.ttest_1samp(a = ,\r\n",
    "# popmean=)\r\n",
    "# pvalue越小越表示樣本間顯著不同\r\n",
    "\r\n",
    "degree_freedom = len(df[df['rise_decline'] == 1])\r\n",
    "LQ = stats.t.ppf(0.025, degree_freedom)\r\n",
    "RQ = stats.t.ppf(0.975, degree_freedom)\r\n",
    "print(f'在95％信賴區間下，t分佈左邊界 {LQ:.3}，右邊界 {RQ:.3}')"
   ],
   "outputs": [
    {
     "output_type": "stream",
     "name": "stdout",
     "text": [
      "在95％信賴區間下，t分佈左邊界 -1.97，右邊界 1.97\n"
     ]
    }
   ],
   "metadata": {}
  },
  {
   "cell_type": "markdown",
   "source": [
    "# 概率分佈 Probability distribution\r\n",
    "# 概率函數 Probability Dense Function"
   ],
   "metadata": {}
  },
  {
   "cell_type": "code",
   "execution_count": 9,
   "source": [
    "# 外資現股買賣超\t投信現股買賣超\t外資大台多空淨額\t外資大台未平倉\t外資小台多空淨額\t外資小台未平倉\r\n",
    "param = \"外資大台未平倉\"\r\n",
    "\r\n",
    "fig = plt.figure(figsize=(12, 5))\r\n",
    "ax = sns.kdeplot(\r\n",
    "    df.loc[(df[\"rise_decline\"] == 1), param],\r\n",
    "    color=\"r\",\r\n",
    "    shade=True,\r\n",
    "    label=\"小台又漲\",\r\n",
    ")\r\n",
    "ax = sns.kdeplot(\r\n",
    "    df.loc[(df[\"rise_decline\"] == 0), param],\r\n",
    "    color=\"g\",\r\n",
    "    shade=True,\r\n",
    "    label=\"小台卻跌\",\r\n",
    ")\r\n",
    "ax.set(xlabel=\"值...\", ylabel=\"值嘛\")\r\n",
    "plt.title(\"嗯\")\r\n"
   ],
   "outputs": [
    {
     "output_type": "execute_result",
     "data": {
      "text/plain": [
       "Text(0.5, 1.0, '嗯')"
      ]
     },
     "metadata": {},
     "execution_count": 9
    },
    {
     "output_type": "display_data",
     "data": {
      "image/png": "[encoded data removed]",
      "text/plain": [
       "<Figure size 864x360 with 1 Axes>"
      ]
     },
     "metadata": {
      "needs_background": "light"
     }
    }
   ],
   "metadata": {}
  },
  {
   "cell_type": "code",
   "execution_count": 11,
   "source": [
    "from sklearn.preprocessing import LabelEncoder\r\n",
    "from sklearn.model_selection import train_test_split\r\n",
    "from sklearn.metrics import (\r\n",
    "    roc_auc_score,\r\n",
    "    accuracy_score,\r\n",
    "    classification_report,\r\n",
    "    precision_score,\r\n",
    "    recall_score,\r\n",
    "    confusion_matrix,\r\n",
    "    precision_recall_curve,\r\n",
    ")\r\n",
    "\r\n",
    "from sklearn.ensemble import RandomForestClassifier\r\n",
    "from sklearn import tree\r\n",
    "from sklearn.tree import DecisionTreeClassifier, export_graphviz\r\n",
    "from six import StringIO\r\n",
    "from IPython.display import Image\r\n",
    "import pydotplus\r\n",
    "\r\n",
    "X = df.iloc[:, :6]\r\n",
    "y = df[\"rise_decline\"]\r\n",
    "# y = df[\"標籤\"]\r\n",
    "y\r\n"
   ],
   "outputs": [
    {
     "output_type": "execute_result",
     "data": {
      "text/plain": [
       "date\n",
       "2019-01-02    0\n",
       "2019-01-03    1\n",
       "2019-01-04    1\n",
       "2019-01-07    0\n",
       "2019-01-08    1\n",
       "             ..\n",
       "2021-09-03    1\n",
       "2021-09-06    0\n",
       "2021-09-07    0\n",
       "2021-09-08    1\n",
       "2021-09-09    1\n",
       "Name: rise_decline, Length: 654, dtype: int32"
      ]
     },
     "metadata": {},
     "execution_count": 11
    }
   ],
   "metadata": {}
  },
  {
   "cell_type": "code",
   "execution_count": 12,
   "source": [
    "# df['轉出的新欄'] = df['字串class欄'].astype('category').cat.codes\r\n",
    "\r\n",
    "# straifity表示 y為True的百分比與raw data一致\r\n",
    "X_train, X_test, y_train, y_test = train_test_split(\r\n",
    "    X, y, test_size=0.15, random_state=78, stratify=y)\r\n"
   ],
   "outputs": [],
   "metadata": {}
  },
  {
   "cell_type": "code",
   "execution_count": 13,
   "source": [
    "dtree = tree.DecisionTreeClassifier(\r\n",
    "    criterion=\"entropy\",\r\n",
    "    # 葉節點至少需要多少百分比\r\n",
    "    min_weight_fraction_leaf=0.01,\r\n",
    ")\r\n",
    "dtree = dtree.fit(X_train, y_train)\r\n",
    "dt_roc_auc = roc_auc_score(y_test, dtree.predict(X_test))\r\n",
    "print(f\"決策樹 AUC = {dt_roc_auc:.3}\")\r\n",
    "print(classification_report(y_test, dtree.predict(X_test)))\r\n"
   ],
   "outputs": [
    {
     "output_type": "stream",
     "name": "stdout",
     "text": [
      "決策樹 AUC = 0.514\n",
      "              precision    recall  f1-score   support\n",
      "\n",
      "           0       0.49      0.49      0.49        47\n",
      "           1       0.54      0.54      0.54        52\n",
      "\n",
      "    accuracy                           0.52        99\n",
      "   macro avg       0.51      0.51      0.51        99\n",
      "weighted avg       0.52      0.52      0.52        99\n",
      "\n"
     ]
    }
   ],
   "metadata": {}
  },
  {
   "cell_type": "code",
   "execution_count": 15,
   "source": [
    "feature_names = df.columns[:6]\r\n",
    "dot_data = StringIO()\r\n",
    "export_graphviz(\r\n",
    "    dtree,\r\n",
    "    out_file=dot_data,\r\n",
    "    filled=True,\r\n",
    "    rounded=True,\r\n",
    "    special_characters=True,\r\n",
    "    feature_names=feature_names,\r\n",
    "    class_names=[\"0\", \"1\"],\r\n",
    ")\r\n",
    "graph = pydotplus.graph_from_dot_data(dot_data.getvalue())\r\n",
    "graph.write_png(\"./tree.png\")\r\n",
    "Image(graph.create_png())\r\n"
   ],
   "outputs": [
    {
     "output_type": "error",
     "ename": "InvocationException",
     "evalue": "GraphViz's executables not found",
     "traceback": [
      "\u001b[1;31m---------------------------------------------------------------------------\u001b[0m",
      "\u001b[1;31mInvocationException\u001b[0m                       Traceback (most recent call last)",
      "\u001b[1;32m<ipython-input-15-dc753b600a61>\u001b[0m in \u001b[0;36m<module>\u001b[1;34m\u001b[0m\n\u001b[0;32m     11\u001b[0m )\n\u001b[0;32m     12\u001b[0m \u001b[0mgraph\u001b[0m \u001b[1;33m=\u001b[0m \u001b[0mpydotplus\u001b[0m\u001b[1;33m.\u001b[0m\u001b[0mgraph_from_dot_data\u001b[0m\u001b[1;33m(\u001b[0m\u001b[0mdot_data\u001b[0m\u001b[1;33m.\u001b[0m\u001b[0mgetvalue\u001b[0m\u001b[1;33m(\u001b[0m\u001b[1;33m)\u001b[0m\u001b[1;33m)\u001b[0m\u001b[1;33m\u001b[0m\u001b[1;33m\u001b[0m\u001b[0m\n\u001b[1;32m---> 13\u001b[1;33m \u001b[0mgraph\u001b[0m\u001b[1;33m.\u001b[0m\u001b[0mwrite_png\u001b[0m\u001b[1;33m(\u001b[0m\u001b[1;34m\"./tree.png\"\u001b[0m\u001b[1;33m)\u001b[0m\u001b[1;33m\u001b[0m\u001b[1;33m\u001b[0m\u001b[0m\n\u001b[0m\u001b[0;32m     14\u001b[0m \u001b[0mImage\u001b[0m\u001b[1;33m(\u001b[0m\u001b[0mgraph\u001b[0m\u001b[1;33m.\u001b[0m\u001b[0mcreate_png\u001b[0m\u001b[1;33m(\u001b[0m\u001b[1;33m)\u001b[0m\u001b[1;33m)\u001b[0m\u001b[1;33m\u001b[0m\u001b[1;33m\u001b[0m\u001b[0m\n",
      "\u001b[1;32m~\\AppData\\Local\\Programs\\Python\\Python37\\lib\\site-packages\\pydotplus\\graphviz.py\u001b[0m in \u001b[0;36m<lambda>\u001b[1;34m(path, f, prog)\u001b[0m\n\u001b[0;32m   1808\u001b[0m                 \u001b[1;32mlambda\u001b[0m \u001b[0mpath\u001b[0m\u001b[1;33m,\u001b[0m\u001b[1;33m\u001b[0m\u001b[1;33m\u001b[0m\u001b[0m\n\u001b[0;32m   1809\u001b[0m                 \u001b[0mf\u001b[0m\u001b[1;33m=\u001b[0m\u001b[0mfrmt\u001b[0m\u001b[1;33m,\u001b[0m\u001b[1;33m\u001b[0m\u001b[1;33m\u001b[0m\u001b[0m\n\u001b[1;32m-> 1810\u001b[1;33m                 \u001b[0mprog\u001b[0m\u001b[1;33m=\u001b[0m\u001b[0mself\u001b[0m\u001b[1;33m.\u001b[0m\u001b[0mprog\u001b[0m\u001b[1;33m:\u001b[0m \u001b[0mself\u001b[0m\u001b[1;33m.\u001b[0m\u001b[0mwrite\u001b[0m\u001b[1;33m(\u001b[0m\u001b[0mpath\u001b[0m\u001b[1;33m,\u001b[0m \u001b[0mformat\u001b[0m\u001b[1;33m=\u001b[0m\u001b[0mf\u001b[0m\u001b[1;33m,\u001b[0m \u001b[0mprog\u001b[0m\u001b[1;33m=\u001b[0m\u001b[0mprog\u001b[0m\u001b[1;33m)\u001b[0m\u001b[1;33m\u001b[0m\u001b[1;33m\u001b[0m\u001b[0m\n\u001b[0m\u001b[0;32m   1811\u001b[0m             )\n\u001b[0;32m   1812\u001b[0m \u001b[1;33m\u001b[0m\u001b[0m\n",
      "\u001b[1;32m~\\AppData\\Local\\Programs\\Python\\Python37\\lib\\site-packages\\pydotplus\\graphviz.py\u001b[0m in \u001b[0;36mwrite\u001b[1;34m(self, path, prog, format)\u001b[0m\n\u001b[0;32m   1916\u001b[0m \u001b[1;33m\u001b[0m\u001b[0m\n\u001b[0;32m   1917\u001b[0m             \u001b[1;32melse\u001b[0m\u001b[1;33m:\u001b[0m\u001b[1;33m\u001b[0m\u001b[1;33m\u001b[0m\u001b[0m\n\u001b[1;32m-> 1918\u001b[1;33m                 \u001b[0mfobj\u001b[0m\u001b[1;33m.\u001b[0m\u001b[0mwrite\u001b[0m\u001b[1;33m(\u001b[0m\u001b[0mself\u001b[0m\u001b[1;33m.\u001b[0m\u001b[0mcreate\u001b[0m\u001b[1;33m(\u001b[0m\u001b[0mprog\u001b[0m\u001b[1;33m,\u001b[0m \u001b[0mformat\u001b[0m\u001b[1;33m)\u001b[0m\u001b[1;33m)\u001b[0m\u001b[1;33m\u001b[0m\u001b[1;33m\u001b[0m\u001b[0m\n\u001b[0m\u001b[0;32m   1919\u001b[0m         \u001b[1;32mfinally\u001b[0m\u001b[1;33m:\u001b[0m\u001b[1;33m\u001b[0m\u001b[1;33m\u001b[0m\u001b[0m\n\u001b[0;32m   1920\u001b[0m             \u001b[1;32mif\u001b[0m \u001b[0mclose\u001b[0m\u001b[1;33m:\u001b[0m\u001b[1;33m\u001b[0m\u001b[1;33m\u001b[0m\u001b[0m\n",
      "\u001b[1;32m~\\AppData\\Local\\Programs\\Python\\Python37\\lib\\site-packages\\pydotplus\\graphviz.py\u001b[0m in \u001b[0;36mcreate\u001b[1;34m(self, prog, format)\u001b[0m\n\u001b[0;32m   1958\u001b[0m             \u001b[1;32mif\u001b[0m \u001b[0mself\u001b[0m\u001b[1;33m.\u001b[0m\u001b[0mprogs\u001b[0m \u001b[1;32mis\u001b[0m \u001b[1;32mNone\u001b[0m\u001b[1;33m:\u001b[0m\u001b[1;33m\u001b[0m\u001b[1;33m\u001b[0m\u001b[0m\n\u001b[0;32m   1959\u001b[0m                 raise InvocationException(\n\u001b[1;32m-> 1960\u001b[1;33m                     'GraphViz\\'s executables not found')\n\u001b[0m\u001b[0;32m   1961\u001b[0m \u001b[1;33m\u001b[0m\u001b[0m\n\u001b[0;32m   1962\u001b[0m         \u001b[1;32mif\u001b[0m \u001b[0mprog\u001b[0m \u001b[1;32mnot\u001b[0m \u001b[1;32min\u001b[0m \u001b[0mself\u001b[0m\u001b[1;33m.\u001b[0m\u001b[0mprogs\u001b[0m\u001b[1;33m:\u001b[0m\u001b[1;33m\u001b[0m\u001b[1;33m\u001b[0m\u001b[0m\n",
      "\u001b[1;31mInvocationException\u001b[0m: GraphViz's executables not found"
     ]
    }
   ],
   "metadata": {}
  },
  {
   "cell_type": "code",
   "execution_count": 12,
   "source": [
    "bull_tb, bear_tb = dict(), dict()\r\n",
    "for threshold in range(20, 101, 5):\r\n",
    "    df = pd.read_csv('https://raw.githubusercontent.com/MaxChenCMC/csv_files_for_colab/master/txf_ohlc_backtest.csv', index_col = 'date', parse_dates = True)\r\n",
    "    cond1 = df['inst_f buy'] > df['inst_f buy'].rolling(5).mean()\r\n",
    "    cond2 = df['inst_t buy'] > df['inst_t buy'].rolling(5).mean()\r\n",
    "    cond3 = df['inst_txf_net'] > 0\r\n",
    "    cond4 = df['inst_txf_oi'] > df['inst_txf_oi'].rolling(5).median()\r\n",
    "    cond5 = df['inst_mtx_net'] > 0\r\n",
    "    cond6 = (df['inst_mtx_oi'] > df['inst_mtx_oi'].rolling(5).median()) & (df['inst_mtx_oi'] > 0)\r\n",
    "    cond7 = df['above_ma'] > df['above_ma'].rolling(5).mean()\r\n",
    "\r\n",
    "    cond = df[4:-1][cond1[4:-1] & cond2[4:-1]& cond4[4:-1]& cond7[4:-1]\r\n",
    "                    ].index\r\n",
    "\r\n",
    "    cond_next = [df[df.index > cond[i]].index[0] for i in range(len(cond))]\r\n",
    "    df1 = df[df.index.isin(cond_next)]\r\n",
    "\r\n",
    "    fee = 4\r\n",
    "    df1_sl = df1[(df1['txf_open'] - threshold > df1['txf_low'])] \r\n",
    "    sl = len(df1_sl) * (-threshold - fee) # 直接求出值了，不是LIST\r\n",
    "    df1_tp = df1[~(df1['txf_open'] - threshold > df1['txf_low'])]    \r\n",
    "    tp = df1_tp['txf_close'] - df1_tp['txf_open'] - fee\r\n",
    "    print(f'做多停損設{threshold}時，交易次數{len(df1)}，停利{len(df1_tp)}次，被停損{len(df1_sl)}次')\r\n",
    "    log_long = {threshold : [sum(tp) + sl]}\r\n",
    "    bull_tb.update(log_long)\r\n",
    "\r\n",
    "    cond = df[~(cond1 | cond2 | cond3 | cond4 | cond5 | cond6 | cond7)].index\r\n",
    "    cond_next = [df[df.index > cond[i]].index[0] for i in range(len(cond))]\r\n",
    "    df1 = df[df.index.isin(cond_next)]\r\n",
    "\r\n",
    "    df1_sl = df1[(df1['txf_open'] + threshold < df1['txf_high'])] \r\n",
    "    sl = len(df1_sl) * (-threshold - 4)\r\n",
    "    df1_tp = df1[~(df1['txf_open'] + threshold < df1['txf_high'])]\r\n",
    "    tp = df1_tp['txf_open'] - df1_tp['txf_close'] - 4\r\n",
    "    print(f'放空停損設{threshold}時，交易次數{len(df1)}，停利{len(df1_tp)}次，被停損{len(df1_sl)}次')\r\n",
    "    log_short = {threshold : [sum(tp) + sl]}\r\n",
    "    bear_tb.update(log_short)\r\n",
    "\r\n",
    "pd.DataFrame(bull_tb.values(), index = bull_tb.keys()).plot(kind = 'bar', title = 'cond = 1247')\r\n",
    "pd.DataFrame(bear_tb.values(), index = bear_tb.keys()).plot(kind = 'bar', title = 'cond None')"
   ],
   "outputs": [
    {
     "output_type": "stream",
     "name": "stdout",
     "text": [
      "做多停損設20時，交易次數77，停利19次，被停損58次\n",
      "放空停損設20時，交易次數71，停利23次，被停損48次\n",
      "做多停損設25時，交易次數77，停利22次，被停損55次\n",
      "放空停損設25時，交易次數71，停利25次，被停損46次\n",
      "做多停損設30時，交易次數77，停利26次，被停損51次\n",
      "放空停損設30時，交易次數71，停利29次，被停損42次\n",
      "做多停損設35時，交易次數77，停利29次，被停損48次\n",
      "放空停損設35時，交易次數71，停利31次，被停損40次\n",
      "做多停損設40時，交易次數77，停利33次，被停損44次\n",
      "放空停損設40時，交易次數71，停利36次，被停損35次\n",
      "做多停損設45時，交易次數77，停利35次，被停損42次\n",
      "放空停損設45時，交易次數71，停利37次，被停損34次\n",
      "做多停損設50時，交易次數77，停利36次，被停損41次\n",
      "放空停損設50時，交易次數71，停利39次，被停損32次\n",
      "做多停損設55時，交易次數77，停利42次，被停損35次\n",
      "放空停損設55時，交易次數71，停利41次，被停損30次\n",
      "做多停損設60時，交易次數77，停利47次，被停損30次\n",
      "放空停損設60時，交易次數71，停利44次，被停損27次\n",
      "做多停損設65時，交易次數77，停利50次，被停損27次\n",
      "放空停損設65時，交易次數71，停利46次，被停損25次\n",
      "做多停損設70時，交易次數77，停利52次，被停損25次\n",
      "放空停損設70時，交易次數71，停利50次，被停損21次\n",
      "做多停損設75時，交易次數77，停利53次，被停損24次\n",
      "放空停損設75時，交易次數71，停利51次，被停損20次\n",
      "做多停損設80時，交易次數77，停利53次，被停損24次\n",
      "放空停損設80時，交易次數71，停利52次，被停損19次\n",
      "做多停損設85時，交易次數77，停利56次，被停損21次\n",
      "放空停損設85時，交易次數71，停利52次，被停損19次\n",
      "做多停損設90時，交易次數77，停利58次，被停損19次\n",
      "放空停損設90時，交易次數71，停利54次，被停損17次\n",
      "做多停損設95時，交易次數77，停利59次，被停損18次\n",
      "放空停損設95時，交易次數71，停利54次，被停損17次\n",
      "做多停損設100時，交易次數77，停利59次，被停損18次\n",
      "放空停損設100時，交易次數71，停利57次，被停損14次\n"
     ]
    },
    {
     "output_type": "execute_result",
     "data": {
      "text/plain": [
       "<matplotlib.axes._subplots.AxesSubplot at 0x1e63ad60588>"
      ]
     },
     "metadata": {},
     "execution_count": 12
    },
    {
     "output_type": "display_data",
     "data": {
      "image/png": "[encoded data removed]",
      "text/plain": [
       "<Figure size 432x288 with 1 Axes>"
      ]
     },
     "metadata": {
      "needs_background": "light"
     }
    },
    {
     "output_type": "display_data",
     "data": {
      "image/png": "[encoded data removed]",
      "text/plain": [
       "<Figure size 432x288 with 1 Axes>"
      ]
     },
     "metadata": {
      "needs_background": "light"
     }
    }
   ],
   "metadata": {}
  }
 ],
 "metadata": {
  "orig_nbformat": 4,
  "language_info": {
   "name": "python",
   "version": "3.7.6",
   "mimetype": "text/x-python",
   "codemirror_mode": {
    "name": "ipython",
    "version": 3
   },
   "pygments_lexer": "ipython3",
   "nbconvert_exporter": "python",
   "file_extension": ".py"
  },
  "kernelspec": {
   "name": "python3",
   "display_name": "Python 3.7.6 64-bit"
  },
  "interpreter": {
   "hash": "6d09c311d154ccac2c591b2a656db1a75fa050ca10b8aadd780a430b68a02a08"
  }
 },
 "nbformat": 4,
 "nbformat_minor": 2
}