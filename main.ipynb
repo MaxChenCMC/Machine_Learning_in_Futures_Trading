{
 "cells": [
  {
   "cell_type": "markdown",
   "source": [
    "# 籌碼用隨機森林預測隔天漲跌\r\n",
    "\r\n",
    "摘要：\r\n",
    "用證交所盤後揭露的現貨買賣超 + 期交所的法人期貨部位  預測隔天台指期是紅K棒或黑K棒\r\n",
    "想在這邊加**粗體**試試看\r\n",
    "\r\n",
    "![](demo.jpg)\r\n",
    "\r\n",
    "# 1.1 隨機森林 \r\n",
    "\r\n",
    "資料集\r\n",
    "\r\n",
    "```python\r\n",
    "import numpy as np\r\n",
    "\r\n",
    "```"
   ],
   "metadata": {}
  },
  {
   "cell_type": "code",
   "execution_count": 10,
   "source": [
    "import pandas as pd\r\n",
    "import numpy as np\r\n",
    "import matplotlib.pyplot as plt\r\n",
    "# import matplotlib as matplot\r\n",
    "plt.style.use('bmh')\r\n",
    "import seaborn as sns\r\n",
    "from tqdm import tqdm\r\n",
    "import requests, datetime\r\n",
    "from bs4 import BeautifulSoup\r\n"
   ],
   "outputs": [],
   "metadata": {}
  },
  {
   "cell_type": "markdown",
   "source": [
    "# nbn sdflasdf"
   ],
   "metadata": {}
  },
  {
   "cell_type": "code",
   "execution_count": 11,
   "source": [
    "df = pd.read_csv(\r\n",
    "    \"https://raw.githubusercontent.com/MaxChenCMC/csv_files_for_colab/master/txf_ohlc_backtest.csv\",\r\n",
    "    index_col=\"date\",\r\n",
    "    parse_dates=True,\r\n",
    ").iloc[:, :11]\r\n",
    "df.tail()\r\n"
   ],
   "outputs": [
    {
     "output_type": "execute_result",
     "data": {
      "text/html": [
       "<div>\n",
       "<style scoped>\n",
       "    .dataframe tbody tr th:only-of-type {\n",
       "        vertical-align: middle;\n",
       "    }\n",
       "\n",
       "    .dataframe tbody tr th {\n",
       "        vertical-align: top;\n",
       "    }\n",
       "\n",
       "    .dataframe thead th {\n",
       "        text-align: right;\n",
       "    }\n",
       "</style>\n",
       "<table border=\"1\" class=\"dataframe\">\n",
       "  <thead>\n",
       "    <tr style=\"text-align: right;\">\n",
       "      <th></th>\n",
       "      <th>inst_f buy</th>\n",
       "      <th>inst_t buy</th>\n",
       "      <th>inst_txf_net</th>\n",
       "      <th>inst_txf_oi</th>\n",
       "      <th>inst_mtx_net</th>\n",
       "      <th>inst_mtx_oi</th>\n",
       "      <th>tse_open</th>\n",
       "      <th>tse_high</th>\n",
       "      <th>tse_low</th>\n",
       "      <th>tse_close</th>\n",
       "      <th>tse_volume</th>\n",
       "    </tr>\n",
       "    <tr>\n",
       "      <th>date</th>\n",
       "      <th></th>\n",
       "      <th></th>\n",
       "      <th></th>\n",
       "      <th></th>\n",
       "      <th></th>\n",
       "      <th></th>\n",
       "      <th></th>\n",
       "      <th></th>\n",
       "      <th></th>\n",
       "      <th></th>\n",
       "      <th></th>\n",
       "    </tr>\n",
       "  </thead>\n",
       "  <tbody>\n",
       "    <tr>\n",
       "      <th>2021-09-06</th>\n",
       "      <td>7666042064</td>\n",
       "      <td>-1252559575</td>\n",
       "      <td>3523</td>\n",
       "      <td>-16296</td>\n",
       "      <td>734</td>\n",
       "      <td>4144</td>\n",
       "      <td>17534.05078</td>\n",
       "      <td>17633.66992</td>\n",
       "      <td>17461.07031</td>\n",
       "      <td>17495.30078</td>\n",
       "      <td>374194</td>\n",
       "    </tr>\n",
       "    <tr>\n",
       "      <th>2021-09-07</th>\n",
       "      <td>6690800894</td>\n",
       "      <td>-1488392384</td>\n",
       "      <td>715</td>\n",
       "      <td>-15580</td>\n",
       "      <td>-318</td>\n",
       "      <td>3822</td>\n",
       "      <td>17534.38086</td>\n",
       "      <td>17559.21094</td>\n",
       "      <td>17388.36914</td>\n",
       "      <td>17428.86914</td>\n",
       "      <td>335130</td>\n",
       "    </tr>\n",
       "    <tr>\n",
       "      <th>2021-09-08</th>\n",
       "      <td>-1072311064</td>\n",
       "      <td>-434523230</td>\n",
       "      <td>1383</td>\n",
       "      <td>-14197</td>\n",
       "      <td>-447</td>\n",
       "      <td>3366</td>\n",
       "      <td>17411.52930</td>\n",
       "      <td>17447.58008</td>\n",
       "      <td>17167.08008</td>\n",
       "      <td>17270.49023</td>\n",
       "      <td>321762</td>\n",
       "    </tr>\n",
       "    <tr>\n",
       "      <th>2021-09-09</th>\n",
       "      <td>-637610085</td>\n",
       "      <td>337589613</td>\n",
       "      <td>1043</td>\n",
       "      <td>-11655</td>\n",
       "      <td>-1457</td>\n",
       "      <td>-4087</td>\n",
       "      <td>17175.03906</td>\n",
       "      <td>17319.08984</td>\n",
       "      <td>17122.94922</td>\n",
       "      <td>17304.33008</td>\n",
       "      <td>244534</td>\n",
       "    </tr>\n",
       "    <tr>\n",
       "      <th>2021-09-10</th>\n",
       "      <td>14973318520</td>\n",
       "      <td>457382200</td>\n",
       "      <td>-2651</td>\n",
       "      <td>-14302</td>\n",
       "      <td>2767</td>\n",
       "      <td>-1336</td>\n",
       "      <td>17270.27930</td>\n",
       "      <td>17474.57031</td>\n",
       "      <td>17270.27930</td>\n",
       "      <td>17474.57031</td>\n",
       "      <td>265915</td>\n",
       "    </tr>\n",
       "  </tbody>\n",
       "</table>\n",
       "</div>"
      ],
      "text/plain": [
       "             inst_f buy  inst_t buy  inst_txf_net  inst_txf_oi  inst_mtx_net  \\\n",
       "date                                                                           \n",
       "2021-09-06   7666042064 -1252559575          3523       -16296           734   \n",
       "2021-09-07   6690800894 -1488392384           715       -15580          -318   \n",
       "2021-09-08  -1072311064  -434523230          1383       -14197          -447   \n",
       "2021-09-09   -637610085   337589613          1043       -11655         -1457   \n",
       "2021-09-10  14973318520   457382200         -2651       -14302          2767   \n",
       "\n",
       "            inst_mtx_oi     tse_open     tse_high      tse_low    tse_close  \\\n",
       "date                                                                          \n",
       "2021-09-06         4144  17534.05078  17633.66992  17461.07031  17495.30078   \n",
       "2021-09-07         3822  17534.38086  17559.21094  17388.36914  17428.86914   \n",
       "2021-09-08         3366  17411.52930  17447.58008  17167.08008  17270.49023   \n",
       "2021-09-09        -4087  17175.03906  17319.08984  17122.94922  17304.33008   \n",
       "2021-09-10        -1336  17270.27930  17474.57031  17270.27930  17474.57031   \n",
       "\n",
       "            tse_volume  \n",
       "date                    \n",
       "2021-09-06      374194  \n",
       "2021-09-07      335130  \n",
       "2021-09-08      321762  \n",
       "2021-09-09      244534  \n",
       "2021-09-10      265915  "
      ]
     },
     "metadata": {},
     "execution_count": 11
    }
   ],
   "metadata": {}
  },
  {
   "cell_type": "code",
   "execution_count": 12,
   "source": [
    "bull_tb, bear_tb = dict(), dict()\r\n",
    "for threshold in range(20, 101, 5):\r\n",
    "    df = pd.read_csv('https://raw.githubusercontent.com/MaxChenCMC/csv_files_for_colab/master/txf_ohlc_backtest.csv', index_col = 'date', parse_dates = True)\r\n",
    "    cond1 = df['inst_f buy'] > df['inst_f buy'].rolling(5).mean()\r\n",
    "    cond2 = df['inst_t buy'] > df['inst_t buy'].rolling(5).mean()\r\n",
    "    cond3 = df['inst_txf_net'] > 0\r\n",
    "    cond4 = df['inst_txf_oi'] > df['inst_txf_oi'].rolling(5).median()\r\n",
    "    cond5 = df['inst_mtx_net'] > 0\r\n",
    "    cond6 = (df['inst_mtx_oi'] > df['inst_mtx_oi'].rolling(5).median()) & (df['inst_mtx_oi'] > 0)\r\n",
    "    cond7 = df['above_ma'] > df['above_ma'].rolling(5).mean()\r\n",
    "\r\n",
    "    cond = df[4:-1][cond1[4:-1] & cond2[4:-1]& cond4[4:-1]& cond7[4:-1]\r\n",
    "                    ].index\r\n",
    "\r\n",
    "    cond_next = [df[df.index > cond[i]].index[0] for i in range(len(cond))]\r\n",
    "    df1 = df[df.index.isin(cond_next)]\r\n",
    "\r\n",
    "    fee = 4\r\n",
    "    df1_sl = df1[(df1['txf_open'] - threshold > df1['txf_low'])] \r\n",
    "    sl = len(df1_sl) * (-threshold - fee) # 直接求出值了，不是LIST\r\n",
    "    df1_tp = df1[~(df1['txf_open'] - threshold > df1['txf_low'])]    \r\n",
    "    tp = df1_tp['txf_close'] - df1_tp['txf_open'] - fee\r\n",
    "    print(f'做多停損設{threshold}時，交易次數{len(df1)}，停利{len(df1_tp)}次，被停損{len(df1_sl)}次')\r\n",
    "    log_long = {threshold : [sum(tp) + sl]}\r\n",
    "    bull_tb.update(log_long)\r\n",
    "\r\n",
    "    cond = df[~(cond1 | cond2 | cond3 | cond4 | cond5 | cond6 | cond7)].index\r\n",
    "    cond_next = [df[df.index > cond[i]].index[0] for i in range(len(cond))]\r\n",
    "    df1 = df[df.index.isin(cond_next)]\r\n",
    "\r\n",
    "    df1_sl = df1[(df1['txf_open'] + threshold < df1['txf_high'])] \r\n",
    "    sl = len(df1_sl) * (-threshold - 4)\r\n",
    "    df1_tp = df1[~(df1['txf_open'] + threshold < df1['txf_high'])]\r\n",
    "    tp = df1_tp['txf_open'] - df1_tp['txf_close'] - 4\r\n",
    "    print(f'放空停損設{threshold}時，交易次數{len(df1)}，停利{len(df1_tp)}次，被停損{len(df1_sl)}次')\r\n",
    "    log_short = {threshold : [sum(tp) + sl]}\r\n",
    "    bear_tb.update(log_short)\r\n",
    "\r\n",
    "pd.DataFrame(bull_tb.values(), index = bull_tb.keys()).plot(kind = 'bar', title = 'cond = 1247')\r\n",
    "pd.DataFrame(bear_tb.values(), index = bear_tb.keys()).plot(kind = 'bar', title = 'cond None')"
   ],
   "outputs": [
    {
     "output_type": "stream",
     "name": "stdout",
     "text": [
      "做多停損設20時，交易次數77，停利19次，被停損58次\n",
      "放空停損設20時，交易次數71，停利23次，被停損48次\n",
      "做多停損設25時，交易次數77，停利22次，被停損55次\n",
      "放空停損設25時，交易次數71，停利25次，被停損46次\n",
      "做多停損設30時，交易次數77，停利26次，被停損51次\n",
      "放空停損設30時，交易次數71，停利29次，被停損42次\n",
      "做多停損設35時，交易次數77，停利29次，被停損48次\n",
      "放空停損設35時，交易次數71，停利31次，被停損40次\n",
      "做多停損設40時，交易次數77，停利33次，被停損44次\n",
      "放空停損設40時，交易次數71，停利36次，被停損35次\n",
      "做多停損設45時，交易次數77，停利35次，被停損42次\n",
      "放空停損設45時，交易次數71，停利37次，被停損34次\n",
      "做多停損設50時，交易次數77，停利36次，被停損41次\n",
      "放空停損設50時，交易次數71，停利39次，被停損32次\n",
      "做多停損設55時，交易次數77，停利42次，被停損35次\n",
      "放空停損設55時，交易次數71，停利41次，被停損30次\n",
      "做多停損設60時，交易次數77，停利47次，被停損30次\n",
      "放空停損設60時，交易次數71，停利44次，被停損27次\n",
      "做多停損設65時，交易次數77，停利50次，被停損27次\n",
      "放空停損設65時，交易次數71，停利46次，被停損25次\n",
      "做多停損設70時，交易次數77，停利52次，被停損25次\n",
      "放空停損設70時，交易次數71，停利50次，被停損21次\n",
      "做多停損設75時，交易次數77，停利53次，被停損24次\n",
      "放空停損設75時，交易次數71，停利51次，被停損20次\n",
      "做多停損設80時，交易次數77，停利53次，被停損24次\n",
      "放空停損設80時，交易次數71，停利52次，被停損19次\n",
      "做多停損設85時，交易次數77，停利56次，被停損21次\n",
      "放空停損設85時，交易次數71，停利52次，被停損19次\n",
      "做多停損設90時，交易次數77，停利58次，被停損19次\n",
      "放空停損設90時，交易次數71，停利54次，被停損17次\n",
      "做多停損設95時，交易次數77，停利59次，被停損18次\n",
      "放空停損設95時，交易次數71，停利54次，被停損17次\n",
      "做多停損設100時，交易次數77，停利59次，被停損18次\n",
      "放空停損設100時，交易次數71，停利57次，被停損14次\n"
     ]
    },
    {
     "output_type": "execute_result",
     "data": {
      "text/plain": [
       "<matplotlib.axes._subplots.AxesSubplot at 0x1e63ad60588>"
      ]
     },
     "metadata": {},
     "execution_count": 12
    },
    {
     "output_type": "display_data",
     "data": {
      "image/png": "[encoded data removed]",
      "text/plain": [
       "<Figure size 432x288 with 1 Axes>"
      ]
     },
     "metadata": {
      "needs_background": "light"
     }
    },
    {
     "output_type": "display_data",
     "data": {
      "image/png": "[encoded data removed]",
      "text/plain": [
       "<Figure size 432x288 with 1 Axes>"
      ]
     },
     "metadata": {
      "needs_background": "light"
     }
    }
   ],
   "metadata": {}
  }
 ],
 "metadata": {
  "orig_nbformat": 4,
  "language_info": {
   "name": "python",
   "version": "3.7.6",
   "mimetype": "text/x-python",
   "codemirror_mode": {
    "name": "ipython",
    "version": 3
   },
   "pygments_lexer": "ipython3",
   "nbconvert_exporter": "python",
   "file_extension": ".py"
  },
  "kernelspec": {
   "name": "python3",
   "display_name": "Python 3.7.6 64-bit"
  },
  "interpreter": {
   "hash": "6d09c311d154ccac2c591b2a656db1a75fa050ca10b8aadd780a430b68a02a08"
  }
 },
 "nbformat": 4,
 "nbformat_minor": 2
}